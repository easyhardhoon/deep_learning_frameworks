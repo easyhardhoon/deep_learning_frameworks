{
  "nbformat": 4,
  "nbformat_minor": 0,
  "metadata": {
    "colab": {
      "name": "Pytorch1.ipynb",
      "provenance": [],
      "collapsed_sections": [],
      "authorship_tag": "ABX9TyN3nHSPj9qRGdW5kjNtVJHc",
      "include_colab_link": true
    },
    "kernelspec": {
      "name": "python3",
      "display_name": "Python 3"
    },
    "language_info": {
      "name": "python"
    }
  },
  "cells": [
    {
      "cell_type": "markdown",
      "metadata": {
        "id": "view-in-github",
        "colab_type": "text"
      },
      "source": [
        "<a href=\"https://colab.research.google.com/github/easyhardhoon/deep_learning_frameworks/blob/main/Pytorch1.ipynb\" target=\"_parent\"><img src=\"https://colab.research.google.com/assets/colab-badge.svg\" alt=\"Open In Colab\"/></a>"
      ]
    },
    {
      "cell_type": "markdown",
      "source": [
        "#Pytorch 프레임워크 입문"
      ],
      "metadata": {
        "id": "_vyJXYmFX2cT"
      }
    },
    {
      "cell_type": "code",
      "execution_count": null,
      "metadata": {
        "id": "7vY9qKM3QteF"
      },
      "outputs": [],
      "source": [
        "import torch \n",
        "import numpy as np"
      ]
    },
    {
      "cell_type": "markdown",
      "source": [
        "Pytorch 프레임워크는\n",
        "\n",
        "import torch 와 같이 단순하게 사용합니다\n",
        "\n",
        "✅참고 : tensorflow 프레임워크는\n",
        "\n",
        "import tensorflow as tf 와 같이 사용합니다"
      ],
      "metadata": {
        "id": "2ZNRXWX4eB-r"
      }
    },
    {
      "cell_type": "code",
      "source": [
        "x = torch.empty(5,4)\n",
        "x\n",
        "#안의 값들은 그저 쓰레기값 입니다."
      ],
      "metadata": {
        "colab": {
          "base_uri": "https://localhost:8080/"
        },
        "id": "1RXkhXEiQxyw",
        "outputId": "c78a177f-7d2a-4175-9dfd-e52ef0750d14"
      },
      "execution_count": null,
      "outputs": [
        {
          "output_type": "execute_result",
          "data": {
            "text/plain": [
              "tensor([[1.0637e-16, 3.0641e-41, 7.0065e-44, 7.0065e-44],\n",
              "        [6.3058e-44, 6.7262e-44, 7.0065e-44, 6.3058e-44],\n",
              "        [6.7262e-44, 7.1466e-44, 1.1771e-43, 6.7262e-44],\n",
              "        [7.5670e-44, 8.1275e-44, 7.0065e-44, 7.7071e-44],\n",
              "        [8.1275e-44, 7.2868e-44, 7.8473e-44, 6.4460e-44]])"
            ]
          },
          "metadata": {},
          "execution_count": 3
        }
      ]
    },
    {
      "cell_type": "code",
      "source": [
        "type(x)\n",
        "#torch의 기본 생성 타입은 tensor임을 알 수 있다. "
      ],
      "metadata": {
        "colab": {
          "base_uri": "https://localhost:8080/"
        },
        "id": "W9L54QrWdVjt",
        "outputId": "9c77c93e-0b20-47cf-a5d0-034646473670"
      },
      "execution_count": null,
      "outputs": [
        {
          "output_type": "execute_result",
          "data": {
            "text/plain": [
              "torch.Tensor"
            ]
          },
          "metadata": {},
          "execution_count": 33
        }
      ]
    },
    {
      "cell_type": "code",
      "source": [
        "torch.ones(3,3)\n",
        "#이렇게 torch는 numpy와 비슷한 역할을 할 수 있습니다."
      ],
      "metadata": {
        "colab": {
          "base_uri": "https://localhost:8080/"
        },
        "id": "ffXiEEXFRIJO",
        "outputId": "37c6dbc5-c9dd-477f-d69e-6fef5226f85e"
      },
      "execution_count": null,
      "outputs": [
        {
          "output_type": "execute_result",
          "data": {
            "text/plain": [
              "tensor([[1., 1., 1.],\n",
              "        [1., 1., 1.],\n",
              "        [1., 1., 1.]])"
            ]
          },
          "metadata": {},
          "execution_count": 4
        }
      ]
    },
    {
      "cell_type": "code",
      "source": [
        "#pytorch를 이용하려면 기본 단위를 tensor로 맞추어야한다\n",
        "l = [13,4]\n",
        "r = np.array([4,5,6])"
      ],
      "metadata": {
        "id": "E7kE9FgNRLTA"
      },
      "execution_count": null,
      "outputs": []
    },
    {
      "cell_type": "code",
      "source": [
        "torch.tensor(l)"
      ],
      "metadata": {
        "colab": {
          "base_uri": "https://localhost:8080/"
        },
        "id": "mmO_6js0R1nL",
        "outputId": "305a3da8-2c73-4c73-f220-cd9d826a73d2"
      },
      "execution_count": null,
      "outputs": [
        {
          "output_type": "execute_result",
          "data": {
            "text/plain": [
              "tensor([13,  4])"
            ]
          },
          "metadata": {},
          "execution_count": 6
        }
      ]
    },
    {
      "cell_type": "code",
      "source": [
        "torch.tensor(r)"
      ],
      "metadata": {
        "colab": {
          "base_uri": "https://localhost:8080/"
        },
        "id": "1YqllvG5R60B",
        "outputId": "c179f2ac-940c-4c17-aecd-dc7391a04c6f"
      },
      "execution_count": null,
      "outputs": [
        {
          "output_type": "execute_result",
          "data": {
            "text/plain": [
              "tensor([4, 5, 6])"
            ]
          },
          "metadata": {},
          "execution_count": 7
        }
      ]
    },
    {
      "cell_type": "code",
      "source": [
        "x.size()"
      ],
      "metadata": {
        "colab": {
          "base_uri": "https://localhost:8080/"
        },
        "id": "CBXL3OeNR82C",
        "outputId": "6f463160-232f-4acd-9e78-47ac573b56e4"
      },
      "execution_count": null,
      "outputs": [
        {
          "output_type": "execute_result",
          "data": {
            "text/plain": [
              "torch.Size([5, 4])"
            ]
          },
          "metadata": {},
          "execution_count": 8
        }
      ]
    },
    {
      "cell_type": "code",
      "source": [
        "type(x)"
      ],
      "metadata": {
        "colab": {
          "base_uri": "https://localhost:8080/"
        },
        "id": "tXe_41wKR-8l",
        "outputId": "0f46750c-5f67-4a0d-f2d2-657a2cc47d7e"
      },
      "execution_count": null,
      "outputs": [
        {
          "output_type": "execute_result",
          "data": {
            "text/plain": [
              "torch.Tensor"
            ]
          },
          "metadata": {},
          "execution_count": 9
        }
      ]
    },
    {
      "cell_type": "code",
      "source": [
        "x = torch.rand(2,2)\n",
        "x"
      ],
      "metadata": {
        "colab": {
          "base_uri": "https://localhost:8080/"
        },
        "id": "HzEyaqXASNy5",
        "outputId": "917cc26d-e8d6-4780-844b-b8acdb11c713"
      },
      "execution_count": null,
      "outputs": [
        {
          "output_type": "execute_result",
          "data": {
            "text/plain": [
              "tensor([[0.1180, 0.4036],\n",
              "        [0.2067, 0.0331]])"
            ]
          },
          "metadata": {},
          "execution_count": 10
        }
      ]
    },
    {
      "cell_type": "code",
      "source": [
        "torch.add(x,3)"
      ],
      "metadata": {
        "colab": {
          "base_uri": "https://localhost:8080/"
        },
        "id": "vRb0BmZ7STd-",
        "outputId": "7e27c7ae-43da-4833-9ddb-1f910e764c2f"
      },
      "execution_count": null,
      "outputs": [
        {
          "output_type": "execute_result",
          "data": {
            "text/plain": [
              "tensor([[3.1180, 3.4036],\n",
              "        [3.2067, 3.0331]])"
            ]
          },
          "metadata": {},
          "execution_count": 11
        }
      ]
    },
    {
      "cell_type": "code",
      "source": [
        "y = torch.rand(2,2)\n",
        "y"
      ],
      "metadata": {
        "colab": {
          "base_uri": "https://localhost:8080/"
        },
        "id": "ABeJA3w-SZXI",
        "outputId": "05fbc284-799a-440f-e571-556845e7b91a"
      },
      "execution_count": null,
      "outputs": [
        {
          "output_type": "execute_result",
          "data": {
            "text/plain": [
              "tensor([[0.0760, 0.4069],\n",
              "        [0.3273, 0.1102]])"
            ]
          },
          "metadata": {},
          "execution_count": 16
        }
      ]
    },
    {
      "cell_type": "code",
      "source": [
        "y.add(x)\n",
        "y"
      ],
      "metadata": {
        "colab": {
          "base_uri": "https://localhost:8080/"
        },
        "id": "_oaWj_36StzR",
        "outputId": "3ec1b1ce-4099-4a74-d8b8-3a75a8672e53"
      },
      "execution_count": null,
      "outputs": [
        {
          "output_type": "execute_result",
          "data": {
            "text/plain": [
              "tensor([[0.0760, 0.4069],\n",
              "        [0.3273, 0.1102]])"
            ]
          },
          "metadata": {},
          "execution_count": 17
        }
      ]
    },
    {
      "cell_type": "code",
      "source": [
        "y.add_(x)\n",
        "y\n",
        "#add_ 의 의미는, x를 더한 뒤 그 값을 y에 저장하겠다는 의미이다."
      ],
      "metadata": {
        "colab": {
          "base_uri": "https://localhost:8080/"
        },
        "id": "vGW5P8vyS5il",
        "outputId": "c3000631-7cfd-4eb3-9340-9928ddabd429"
      },
      "execution_count": null,
      "outputs": [
        {
          "output_type": "execute_result",
          "data": {
            "text/plain": [
              "tensor([[0.1940, 0.8106],\n",
              "        [0.5340, 0.1434]])"
            ]
          },
          "metadata": {},
          "execution_count": 18
        }
      ]
    },
    {
      "cell_type": "code",
      "source": [
        "y[1,1]\n",
        "#이렇듯 기본 구성은 tensor라고 해서 특별한 것은 없다."
      ],
      "metadata": {
        "colab": {
          "base_uri": "https://localhost:8080/"
        },
        "id": "YUpQxBkPS7-B",
        "outputId": "df930001-da85-4140-ced4-27cb00b3fe05"
      },
      "execution_count": null,
      "outputs": [
        {
          "output_type": "execute_result",
          "data": {
            "text/plain": [
              "tensor(0.1434)"
            ]
          },
          "metadata": {},
          "execution_count": 19
        }
      ]
    },
    {
      "cell_type": "code",
      "source": [
        "y[:,1]\n",
        "#1열을 의미한다"
      ],
      "metadata": {
        "colab": {
          "base_uri": "https://localhost:8080/"
        },
        "id": "Ab4QcGadTobh",
        "outputId": "9f0a9e9b-a706-4d05-e13e-4e49f243f621"
      },
      "execution_count": null,
      "outputs": [
        {
          "output_type": "execute_result",
          "data": {
            "text/plain": [
              "tensor([0.8106, 0.1434])"
            ]
          },
          "metadata": {},
          "execution_count": 20
        }
      ]
    },
    {
      "cell_type": "code",
      "source": [
        "x = torch.rand(8,8)\n",
        "x"
      ],
      "metadata": {
        "colab": {
          "base_uri": "https://localhost:8080/"
        },
        "id": "i63vBRL5UAIi",
        "outputId": "523f5e17-5b4e-477e-8b9d-c8ad3b72a591"
      },
      "execution_count": null,
      "outputs": [
        {
          "output_type": "execute_result",
          "data": {
            "text/plain": [
              "tensor([[0.1562, 0.9582, 0.5579, 0.6066, 0.1541, 0.4766, 0.5684, 0.5383],\n",
              "        [0.8020, 0.8769, 0.4333, 0.0552, 0.1455, 0.0548, 0.4477, 0.1463],\n",
              "        [0.9887, 0.9277, 0.7631, 0.9708, 0.9277, 0.0233, 0.3355, 0.1441],\n",
              "        [0.3391, 0.0639, 0.9407, 0.9446, 0.9607, 0.2931, 0.7028, 0.3812],\n",
              "        [0.1370, 0.3132, 0.5495, 0.5329, 0.5457, 0.0438, 0.0843, 0.7896],\n",
              "        [0.4629, 0.7694, 0.2891, 0.7988, 0.5324, 0.4229, 0.6361, 0.4547],\n",
              "        [0.7785, 0.9711, 0.5722, 0.6673, 0.1717, 0.9543, 0.5595, 0.1801],\n",
              "        [0.7179, 0.5831, 0.7584, 0.3916, 0.8461, 0.5561, 0.9872, 0.0930]])"
            ]
          },
          "metadata": {},
          "execution_count": 21
        }
      ]
    },
    {
      "cell_type": "code",
      "source": [
        "x.view(64)\n",
        "#  1*64 로 shape를 바꿀수 있다는 말인듯"
      ],
      "metadata": {
        "colab": {
          "base_uri": "https://localhost:8080/"
        },
        "id": "gWxLzAtyUNlP",
        "outputId": "5895260f-37cc-4af8-a61a-3a1b159016b6"
      },
      "execution_count": null,
      "outputs": [
        {
          "output_type": "execute_result",
          "data": {
            "text/plain": [
              "tensor([0.1562, 0.9582, 0.5579, 0.6066, 0.1541, 0.4766, 0.5684, 0.5383, 0.8020,\n",
              "        0.8769, 0.4333, 0.0552, 0.1455, 0.0548, 0.4477, 0.1463, 0.9887, 0.9277,\n",
              "        0.7631, 0.9708, 0.9277, 0.0233, 0.3355, 0.1441, 0.3391, 0.0639, 0.9407,\n",
              "        0.9446, 0.9607, 0.2931, 0.7028, 0.3812, 0.1370, 0.3132, 0.5495, 0.5329,\n",
              "        0.5457, 0.0438, 0.0843, 0.7896, 0.4629, 0.7694, 0.2891, 0.7988, 0.5324,\n",
              "        0.4229, 0.6361, 0.4547, 0.7785, 0.9711, 0.5722, 0.6673, 0.1717, 0.9543,\n",
              "        0.5595, 0.1801, 0.7179, 0.5831, 0.7584, 0.3916, 0.8461, 0.5561, 0.9872,\n",
              "        0.0930])"
            ]
          },
          "metadata": {},
          "execution_count": 22
        }
      ]
    },
    {
      "cell_type": "code",
      "source": [
        "x.view(4,16)\n",
        "# 마찬가지로 4 *16으로 바꿀 수 있다\n",
        "# 참고로 64를 일일이 16으로 나누기가 힘드니까\n",
        "x.view(-1,16) #이렇게 나타낼 수 있다. 둘은 같은 말이다. \n",
        "# 16은 고정한다는 의미이고 나머지  값은 자동으로 구한다는 개념이다"
      ],
      "metadata": {
        "colab": {
          "base_uri": "https://localhost:8080/"
        },
        "id": "SDf1UzotURVI",
        "outputId": "4ca86385-03c3-4c4d-b63c-4c767c0dc677"
      },
      "execution_count": null,
      "outputs": [
        {
          "output_type": "execute_result",
          "data": {
            "text/plain": [
              "tensor([[0.1562, 0.9582, 0.5579, 0.6066, 0.1541, 0.4766, 0.5684, 0.5383, 0.8020,\n",
              "         0.8769, 0.4333, 0.0552, 0.1455, 0.0548, 0.4477, 0.1463],\n",
              "        [0.9887, 0.9277, 0.7631, 0.9708, 0.9277, 0.0233, 0.3355, 0.1441, 0.3391,\n",
              "         0.0639, 0.9407, 0.9446, 0.9607, 0.2931, 0.7028, 0.3812],\n",
              "        [0.1370, 0.3132, 0.5495, 0.5329, 0.5457, 0.0438, 0.0843, 0.7896, 0.4629,\n",
              "         0.7694, 0.2891, 0.7988, 0.5324, 0.4229, 0.6361, 0.4547],\n",
              "        [0.7785, 0.9711, 0.5722, 0.6673, 0.1717, 0.9543, 0.5595, 0.1801, 0.7179,\n",
              "         0.5831, 0.7584, 0.3916, 0.8461, 0.5561, 0.9872, 0.0930]])"
            ]
          },
          "metadata": {},
          "execution_count": 23
        }
      ]
    },
    {
      "cell_type": "code",
      "source": [
        "#numpy -> tensor를 배웠으니\n",
        "#tensor -> numpy 도 해보자\n",
        "y = x.numpy()\n",
        "type(y)"
      ],
      "metadata": {
        "colab": {
          "base_uri": "https://localhost:8080/"
        },
        "id": "1O1IB7JzUuTT",
        "outputId": "a202ef05-37d5-4733-fc2d-445344345e85"
      },
      "execution_count": null,
      "outputs": [
        {
          "output_type": "execute_result",
          "data": {
            "text/plain": [
              "numpy.ndarray"
            ]
          },
          "metadata": {},
          "execution_count": 24
        }
      ]
    },
    {
      "cell_type": "code",
      "source": [
        "x = torch.ones(1)\n",
        "x"
      ],
      "metadata": {
        "colab": {
          "base_uri": "https://localhost:8080/"
        },
        "id": "BwT6DST4Vm4V",
        "outputId": "68967521-11e8-4855-875e-bd4597a26aa2"
      },
      "execution_count": null,
      "outputs": [
        {
          "output_type": "execute_result",
          "data": {
            "text/plain": [
              "tensor([1.])"
            ]
          },
          "metadata": {},
          "execution_count": 25
        }
      ]
    },
    {
      "cell_type": "code",
      "source": [
        "x.item()\n",
        "#x안의 값을 뽑아내고 싶다\n",
        "#오직 x안의 값이 스칼라일 경우( 하나만 있을 경우)만 item으로 값을 뽑아낼수 있다."
      ],
      "metadata": {
        "colab": {
          "base_uri": "https://localhost:8080/"
        },
        "id": "w49_cN-9V59d",
        "outputId": "9529c55a-5c4c-4358-b0b9-0187e3da0602"
      },
      "execution_count": null,
      "outputs": [
        {
          "output_type": "execute_result",
          "data": {
            "text/plain": [
              "1.0"
            ]
          },
          "metadata": {},
          "execution_count": 26
        }
      ]
    },
    {
      "cell_type": "code",
      "source": [
        "n = np.array([1,2,3])\n",
        "n  = torch.tensor(n) #사소한 거지만 n = torch.tensor(n) 이렇게 해주어야 완전히 n의 타입이 변경됩니다\n",
        "type(n)"
      ],
      "metadata": {
        "colab": {
          "base_uri": "https://localhost:8080/"
        },
        "id": "41u5n6uVV9Ar",
        "outputId": "1a8ccbe5-8314-4c56-d916-6176392bc064"
      },
      "execution_count": null,
      "outputs": [
        {
          "output_type": "execute_result",
          "data": {
            "text/plain": [
              "torch.Tensor"
            ]
          },
          "metadata": {},
          "execution_count": 32
        }
      ]
    },
    {
      "cell_type": "code",
      "source": [
        ""
      ],
      "metadata": {
        "id": "0KAzDQ_ud8cq"
      },
      "execution_count": null,
      "outputs": []
    },
    {
      "cell_type": "markdown",
      "source": [
        "⏰언제 item()을 사용하는가\n",
        "\n",
        "    loss함수에서 최종 loss값을 뽑아낼때 사용함. loss는 단일의 스칼라값이기 때문\n",
        "\n",
        "⏰언제 view()를 사용하는가\n",
        "\n",
        "    CNN 계층에서 pooling 때 정사각형 모양(input)을 pooling하기 좋게 shape를 바꿀때 편리하게 사용한다"
      ],
      "metadata": {
        "id": "CF8Vg-oMXBrn"
      }
    },
    {
      "cell_type": "code",
      "source": [
        ""
      ],
      "metadata": {
        "id": "wxLI6vEoWNmR"
      },
      "execution_count": null,
      "outputs": []
    }
  ]
}