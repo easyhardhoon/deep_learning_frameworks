{
  "nbformat": 4,
  "nbformat_minor": 0,
  "metadata": {
    "colab": {
      "name": "Pytorch2.ipynb",
      "provenance": [],
      "collapsed_sections": [],
      "authorship_tag": "ABX9TyN9QVIR9ouw55BgLadOqZRi",
      "include_colab_link": true
    },
    "kernelspec": {
      "name": "python3",
      "display_name": "Python 3"
    },
    "language_info": {
      "name": "python"
    },
    "widgets": {
      "application/vnd.jupyter.widget-state+json": {
        "b09b0ae9550b4082be345ea66864b55c": {
          "model_module": "@jupyter-widgets/controls",
          "model_name": "HBoxModel",
          "model_module_version": "1.5.0",
          "state": {
            "_view_name": "HBoxView",
            "_dom_classes": [],
            "_model_name": "HBoxModel",
            "_view_module": "@jupyter-widgets/controls",
            "_model_module_version": "1.5.0",
            "_view_count": null,
            "_view_module_version": "1.5.0",
            "box_style": "",
            "layout": "IPY_MODEL_6ed1e8ae052441e386c0d385ec289bb1",
            "_model_module": "@jupyter-widgets/controls",
            "children": [
              "IPY_MODEL_1ae738fb7ee149ae8a7e5e6019834895",
              "IPY_MODEL_5286607fde7d4d57907f2d23b717ae72",
              "IPY_MODEL_27c01ef2dff94a3a826ee8fc54807153"
            ]
          }
        },
        "6ed1e8ae052441e386c0d385ec289bb1": {
          "model_module": "@jupyter-widgets/base",
          "model_name": "LayoutModel",
          "model_module_version": "1.2.0",
          "state": {
            "_view_name": "LayoutView",
            "grid_template_rows": null,
            "right": null,
            "justify_content": null,
            "_view_module": "@jupyter-widgets/base",
            "overflow": null,
            "_model_module_version": "1.2.0",
            "_view_count": null,
            "flex_flow": null,
            "width": null,
            "min_width": null,
            "border": null,
            "align_items": null,
            "bottom": null,
            "_model_module": "@jupyter-widgets/base",
            "top": null,
            "grid_column": null,
            "overflow_y": null,
            "overflow_x": null,
            "grid_auto_flow": null,
            "grid_area": null,
            "grid_template_columns": null,
            "flex": null,
            "_model_name": "LayoutModel",
            "justify_items": null,
            "grid_row": null,
            "max_height": null,
            "align_content": null,
            "visibility": null,
            "align_self": null,
            "height": null,
            "min_height": null,
            "padding": null,
            "grid_auto_rows": null,
            "grid_gap": null,
            "max_width": null,
            "order": null,
            "_view_module_version": "1.2.0",
            "grid_template_areas": null,
            "object_position": null,
            "object_fit": null,
            "grid_auto_columns": null,
            "margin": null,
            "display": null,
            "left": null
          }
        },
        "1ae738fb7ee149ae8a7e5e6019834895": {
          "model_module": "@jupyter-widgets/controls",
          "model_name": "HTMLModel",
          "model_module_version": "1.5.0",
          "state": {
            "_view_name": "HTMLView",
            "style": "IPY_MODEL_d624e69e60ed4c42a3952806fc294adc",
            "_dom_classes": [],
            "description": "",
            "_model_name": "HTMLModel",
            "placeholder": "​",
            "_view_module": "@jupyter-widgets/controls",
            "_model_module_version": "1.5.0",
            "value": "",
            "_view_count": null,
            "_view_module_version": "1.5.0",
            "description_tooltip": null,
            "_model_module": "@jupyter-widgets/controls",
            "layout": "IPY_MODEL_7e573d791e334cea8c7873630b8f99a9"
          }
        },
        "5286607fde7d4d57907f2d23b717ae72": {
          "model_module": "@jupyter-widgets/controls",
          "model_name": "FloatProgressModel",
          "model_module_version": "1.5.0",
          "state": {
            "_view_name": "ProgressView",
            "style": "IPY_MODEL_133121079c0e419faae7c6feb0b7138b",
            "_dom_classes": [],
            "description": "",
            "_model_name": "FloatProgressModel",
            "bar_style": "success",
            "max": 170498071,
            "_view_module": "@jupyter-widgets/controls",
            "_model_module_version": "1.5.0",
            "value": 170498071,
            "_view_count": null,
            "_view_module_version": "1.5.0",
            "orientation": "horizontal",
            "min": 0,
            "description_tooltip": null,
            "_model_module": "@jupyter-widgets/controls",
            "layout": "IPY_MODEL_0ece0fe8a221449f87fda8686abd14e1"
          }
        },
        "27c01ef2dff94a3a826ee8fc54807153": {
          "model_module": "@jupyter-widgets/controls",
          "model_name": "HTMLModel",
          "model_module_version": "1.5.0",
          "state": {
            "_view_name": "HTMLView",
            "style": "IPY_MODEL_2a6c5c5a12cb4222b0794c8312ba9652",
            "_dom_classes": [],
            "description": "",
            "_model_name": "HTMLModel",
            "placeholder": "​",
            "_view_module": "@jupyter-widgets/controls",
            "_model_module_version": "1.5.0",
            "value": " 170499072/? [00:11&lt;00:00, 17167136.52it/s]",
            "_view_count": null,
            "_view_module_version": "1.5.0",
            "description_tooltip": null,
            "_model_module": "@jupyter-widgets/controls",
            "layout": "IPY_MODEL_c7154ad7236b46e5a3bb96a4ac1e71ec"
          }
        },
        "d624e69e60ed4c42a3952806fc294adc": {
          "model_module": "@jupyter-widgets/controls",
          "model_name": "DescriptionStyleModel",
          "model_module_version": "1.5.0",
          "state": {
            "_view_name": "StyleView",
            "_model_name": "DescriptionStyleModel",
            "description_width": "",
            "_view_module": "@jupyter-widgets/base",
            "_model_module_version": "1.5.0",
            "_view_count": null,
            "_view_module_version": "1.2.0",
            "_model_module": "@jupyter-widgets/controls"
          }
        },
        "7e573d791e334cea8c7873630b8f99a9": {
          "model_module": "@jupyter-widgets/base",
          "model_name": "LayoutModel",
          "model_module_version": "1.2.0",
          "state": {
            "_view_name": "LayoutView",
            "grid_template_rows": null,
            "right": null,
            "justify_content": null,
            "_view_module": "@jupyter-widgets/base",
            "overflow": null,
            "_model_module_version": "1.2.0",
            "_view_count": null,
            "flex_flow": null,
            "width": null,
            "min_width": null,
            "border": null,
            "align_items": null,
            "bottom": null,
            "_model_module": "@jupyter-widgets/base",
            "top": null,
            "grid_column": null,
            "overflow_y": null,
            "overflow_x": null,
            "grid_auto_flow": null,
            "grid_area": null,
            "grid_template_columns": null,
            "flex": null,
            "_model_name": "LayoutModel",
            "justify_items": null,
            "grid_row": null,
            "max_height": null,
            "align_content": null,
            "visibility": null,
            "align_self": null,
            "height": null,
            "min_height": null,
            "padding": null,
            "grid_auto_rows": null,
            "grid_gap": null,
            "max_width": null,
            "order": null,
            "_view_module_version": "1.2.0",
            "grid_template_areas": null,
            "object_position": null,
            "object_fit": null,
            "grid_auto_columns": null,
            "margin": null,
            "display": null,
            "left": null
          }
        },
        "133121079c0e419faae7c6feb0b7138b": {
          "model_module": "@jupyter-widgets/controls",
          "model_name": "ProgressStyleModel",
          "model_module_version": "1.5.0",
          "state": {
            "_view_name": "StyleView",
            "_model_name": "ProgressStyleModel",
            "description_width": "",
            "_view_module": "@jupyter-widgets/base",
            "_model_module_version": "1.5.0",
            "_view_count": null,
            "_view_module_version": "1.2.0",
            "bar_color": null,
            "_model_module": "@jupyter-widgets/controls"
          }
        },
        "0ece0fe8a221449f87fda8686abd14e1": {
          "model_module": "@jupyter-widgets/base",
          "model_name": "LayoutModel",
          "model_module_version": "1.2.0",
          "state": {
            "_view_name": "LayoutView",
            "grid_template_rows": null,
            "right": null,
            "justify_content": null,
            "_view_module": "@jupyter-widgets/base",
            "overflow": null,
            "_model_module_version": "1.2.0",
            "_view_count": null,
            "flex_flow": null,
            "width": null,
            "min_width": null,
            "border": null,
            "align_items": null,
            "bottom": null,
            "_model_module": "@jupyter-widgets/base",
            "top": null,
            "grid_column": null,
            "overflow_y": null,
            "overflow_x": null,
            "grid_auto_flow": null,
            "grid_area": null,
            "grid_template_columns": null,
            "flex": null,
            "_model_name": "LayoutModel",
            "justify_items": null,
            "grid_row": null,
            "max_height": null,
            "align_content": null,
            "visibility": null,
            "align_self": null,
            "height": null,
            "min_height": null,
            "padding": null,
            "grid_auto_rows": null,
            "grid_gap": null,
            "max_width": null,
            "order": null,
            "_view_module_version": "1.2.0",
            "grid_template_areas": null,
            "object_position": null,
            "object_fit": null,
            "grid_auto_columns": null,
            "margin": null,
            "display": null,
            "left": null
          }
        },
        "2a6c5c5a12cb4222b0794c8312ba9652": {
          "model_module": "@jupyter-widgets/controls",
          "model_name": "DescriptionStyleModel",
          "model_module_version": "1.5.0",
          "state": {
            "_view_name": "StyleView",
            "_model_name": "DescriptionStyleModel",
            "description_width": "",
            "_view_module": "@jupyter-widgets/base",
            "_model_module_version": "1.5.0",
            "_view_count": null,
            "_view_module_version": "1.2.0",
            "_model_module": "@jupyter-widgets/controls"
          }
        },
        "c7154ad7236b46e5a3bb96a4ac1e71ec": {
          "model_module": "@jupyter-widgets/base",
          "model_name": "LayoutModel",
          "model_module_version": "1.2.0",
          "state": {
            "_view_name": "LayoutView",
            "grid_template_rows": null,
            "right": null,
            "justify_content": null,
            "_view_module": "@jupyter-widgets/base",
            "overflow": null,
            "_model_module_version": "1.2.0",
            "_view_count": null,
            "flex_flow": null,
            "width": null,
            "min_width": null,
            "border": null,
            "align_items": null,
            "bottom": null,
            "_model_module": "@jupyter-widgets/base",
            "top": null,
            "grid_column": null,
            "overflow_y": null,
            "overflow_x": null,
            "grid_auto_flow": null,
            "grid_area": null,
            "grid_template_columns": null,
            "flex": null,
            "_model_name": "LayoutModel",
            "justify_items": null,
            "grid_row": null,
            "max_height": null,
            "align_content": null,
            "visibility": null,
            "align_self": null,
            "height": null,
            "min_height": null,
            "padding": null,
            "grid_auto_rows": null,
            "grid_gap": null,
            "max_width": null,
            "order": null,
            "_view_module_version": "1.2.0",
            "grid_template_areas": null,
            "object_position": null,
            "object_fit": null,
            "grid_auto_columns": null,
            "margin": null,
            "display": null,
            "left": null
          }
        }
      }
    }
  },
  "cells": [
    {
      "cell_type": "markdown",
      "metadata": {
        "id": "view-in-github",
        "colab_type": "text"
      },
      "source": [
        "<a href=\"https://colab.research.google.com/github/easyhardhoon/deep_learning_frameworks/blob/main/Pytorch2.ipynb\" target=\"_parent\"><img src=\"https://colab.research.google.com/assets/colab-badge.svg\" alt=\"Open In Colab\"/></a>"
      ]
    },
    {
      "cell_type": "markdown",
      "source": [
        "#미분"
      ],
      "metadata": {
        "id": "mNw_xHbyQCAQ"
      }
    },
    {
      "cell_type": "code",
      "execution_count": null,
      "metadata": {
        "colab": {
          "base_uri": "https://localhost:8080/"
        },
        "id": "purigGKUP4m6",
        "outputId": "dee995b7-263c-43c5-d660-bb68c33a51ed"
      },
      "outputs": [
        {
          "output_type": "execute_result",
          "data": {
            "text/plain": [
              "tensor([[1., 1.],\n",
              "        [1., 1.]], requires_grad=True)"
            ]
          },
          "metadata": {},
          "execution_count": 10
        }
      ],
      "source": [
        "import torch\n",
        "x = torch.ones(2,2, requires_grad = True) #default는 false이다. 이렇게 true로 활성화시켜주면, x 텐서에 대한 기울기를 저장함.\n",
        "# 딥러닝의 오차역전파법을 자동으로 미분해주는 알고리즘을 위해서이다. (AutoGrad)\n",
        "x"
      ]
    },
    {
      "cell_type": "code",
      "source": [
        "y =  x+1\n",
        "y #겉보기에는 일반 상태와 다를게 없어 보인다."
      ],
      "metadata": {
        "colab": {
          "base_uri": "https://localhost:8080/"
        },
        "id": "iilizmujQMht",
        "outputId": "b3a7e966-b21d-4656-81c2-01b2f8ac0237"
      },
      "execution_count": null,
      "outputs": [
        {
          "output_type": "execute_result",
          "data": {
            "text/plain": [
              "tensor([[2., 2.],\n",
              "        [2., 2.]], grad_fn=<AddBackward0>)"
            ]
          },
          "metadata": {},
          "execution_count": 25
        }
      ]
    },
    {
      "cell_type": "code",
      "source": [
        "z = 2*y**2\n",
        "res = z.mean() #res가 찐 손실함수의 결과라고 할 수 있다. 각 매개변수에 대한 손실함수의 값이기 때문. "
      ],
      "metadata": {
        "id": "F5k4J1LsQsul"
      },
      "execution_count": null,
      "outputs": []
    },
    {
      "cell_type": "code",
      "source": [
        "res "
      ],
      "metadata": {
        "colab": {
          "base_uri": "https://localhost:8080/"
        },
        "id": "9aV_P7iJQx5S",
        "outputId": "259e18a2-ed1d-4df1-9e8f-8cb94a151449"
      },
      "execution_count": null,
      "outputs": [
        {
          "output_type": "execute_result",
          "data": {
            "text/plain": [
              "tensor(8., grad_fn=<MeanBackward0>)"
            ]
          },
          "metadata": {},
          "execution_count": 27
        }
      ]
    },
    {
      "cell_type": "markdown",
      "source": [
        "#위의 과정이\n",
        "▶변수 선언\n",
        "\n",
        "▶모델 내 연산 예측값 산출\n",
        "\n",
        "▶손실함수 계산\n",
        "\n",
        "▶손실 산출\n",
        "\n",
        "의 기본 딥러닝구조이다. 이제 이를 토대로\n",
        "\n",
        "\n",
        "▶ 손실함수에 대한 가중치 매개변수의 기울기 값을 도출한다\n"
      ],
      "metadata": {
        "id": "ku7jYYmyQ4GU"
      }
    },
    {
      "cell_type": "code",
      "source": [
        "# 이제 우리가 필요한것은\n",
        "# 손실함수에 대한 매개변수의 기울기 값이다.\n",
        "# d(res) / d(x_i) = ??\n",
        "# res  = (z_1 + z_2 + z_3 + z_4) / 4\n",
        "# z_i = 2 * y_i ** 2\n",
        "# z_i = 2 * (x_i + 1) ** 2\n",
        "# 쉽게 : res = (2(x+1)^2)/4 = x제곱 + 2x + 1 의 2분할 = x +1  \n",
        "# 그래서  d(res) / d(x_i) = x_i + 1 이 된다. (이 과정은 그냥 시험햐볼려고 직접 해본거일 뿐)\n",
        "res.backward() #연쇄법칙\n",
        "#z.backward()\n",
        "x.grad # 각 x_i마다 위의 기울기 값 산출 코드 "
      ],
      "metadata": {
        "colab": {
          "base_uri": "https://localhost:8080/"
        },
        "id": "Tyr3q13ERCsl",
        "outputId": "ecd81c24-e8c3-4e3a-af68-68a2eccf2093"
      },
      "execution_count": null,
      "outputs": [
        {
          "output_type": "execute_result",
          "data": {
            "text/plain": [
              "tensor([[6., 6.],\n",
              "        [6., 6.]])"
            ]
          },
          "metadata": {},
          "execution_count": 28
        }
      ]
    },
    {
      "cell_type": "markdown",
      "source": [
        "#참고로\n",
        "\n",
        "z.backward()를 하니\n",
        "\n",
        "grad can be implicitly created only for scalar outputs 라고 떴다.\n",
        "\n",
        "res같은 스칼라(상수) 형식 변수에서 backward 함수를 발동시킬 수 있다는 뜻이다..\n",
        "\n",
        "어찌보면 **손실함수에 대한 가중치 매개변수의 기울기 값**을 구하는 것이니\n",
        "\n",
        "이 흐름도 당연한 것 같다.\n",
        "\n",
        "z.backward()가 안되는 명확한 이유는\n",
        "\n",
        "z가 (2,2) 행렬이기 때문이다\n",
        "\n",
        "z가 스칼라라면 z.backward가 발동한다.\n",
        "\n",
        "✅정리하면\n",
        "\n",
        "    A.backward가 발동되려면 A는 단일상수값, 즉 스칼라값이여야 한다.\n",
        "\n",
        "    딥러닝 모델의 loss함수 결과값 역시 일련의 선행 값의 평균을 구한 값이기 때문에,\n",
        "\n",
        "    자연스레 스칼라 값이 도출된다. 이 스칼라 값 형태의 명확한 loss지표 에 대한 \n",
        "\n",
        "    가중치 매개변수의 기울기 값을 구하는 알고리즘인 것이다."
      ],
      "metadata": {
        "id": "-LeUe4IxcBRm"
      }
    },
    {
      "cell_type": "code",
      "source": [
        "##사실은\n",
        "import torch.nn as nn\n",
        "import torch.nn.functional as F \n",
        "#여기에 모두 선언되어 있고 합성곱 계층 및 복잡한 계층, 활성화함수 등이 모두 저장되어있다."
      ],
      "metadata": {
        "id": "bDo-ItxmZTJI"
      },
      "execution_count": null,
      "outputs": []
    },
    {
      "cell_type": "markdown",
      "source": [
        "#자동 미분 복습"
      ],
      "metadata": {
        "id": "duaGvNEXfY4D"
      }
    },
    {
      "cell_type": "code",
      "source": [
        "import torch\n",
        "w = torch.tensor(3.0, requires_grad= True)\n",
        "y = w**3 + 10\n",
        "y.backward()\n",
        "w.grad"
      ],
      "metadata": {
        "colab": {
          "base_uri": "https://localhost:8080/"
        },
        "id": "lOwmZIDoZ1Qc",
        "outputId": "a73b5132-3b69-435e-b691-50c17096b16e"
      },
      "execution_count": null,
      "outputs": [
        {
          "output_type": "execute_result",
          "data": {
            "text/plain": [
              "tensor(27.)"
            ]
          },
          "metadata": {},
          "execution_count": 31
        }
      ]
    },
    {
      "cell_type": "code",
      "source": [
        "import torch\n",
        "import torch.nn as nn\n",
        "\n",
        "x = torch.ones(5)\n",
        "y = torch.zeros(3) # 이건 input입니다\n",
        "w= torch.randn(5,3,requires_grad = True) #가중치 매개변수 초기화입니다\n",
        "b= torch.randn(3,requires_grad = True) #bias 매개변수 초기화입니다\n",
        "z= torch.matmul(x,w) + b # 행렬곱 . Affine  계층의 논리입니다\n",
        "loss_fn = nn.MSELoss() # 손실함수로 nn 라이브러리에 저장되어있는 MSE 손실함수를 사용하겠습니다\n",
        "\n",
        "loss = loss_fn(z,y) #손실함수를 계산하겠습니다. 결과값은 당연하게도 스칼라입니다. \n",
        "loss.backward() #역전파를 구현하겠습니다. 연쇄법으로 자연스레 모든 계층의 미분값이 업데이트 됩니다. \n",
        "\n",
        "print(f'loss를 w로 미분한 값 : \\n {w.grad}')\n",
        "print(f'loss를 b로 미분한 값 : \\n {b.grad}')\n"
      ],
      "metadata": {
        "colab": {
          "base_uri": "https://localhost:8080/"
        },
        "id": "G3GcRjrSfjMe",
        "outputId": "a2bc2b03-f32e-4095-b3cc-35e7bd7c34cb"
      },
      "execution_count": 2,
      "outputs": [
        {
          "output_type": "stream",
          "name": "stdout",
          "text": [
            "loss를 w로 미분한 값 : \n",
            " tensor([[-0.6813,  2.0534, -1.1082],\n",
            "        [-0.6813,  2.0534, -1.1082],\n",
            "        [-0.6813,  2.0534, -1.1082],\n",
            "        [-0.6813,  2.0534, -1.1082],\n",
            "        [-0.6813,  2.0534, -1.1082]])\n",
            "loss를 b로 미분한 값 : \n",
            " tensor([-0.6813,  2.0534, -1.1082])\n"
          ]
        }
      ]
    },
    {
      "cell_type": "markdown",
      "source": [
        "⚾randn, randint, rand 구별\n",
        "\n",
        "♟randn(m,n)\n",
        "\n",
        "    평균이 0이고 표준편차가 1인 가우시안 표준정규분포 난수를 matrix array(m,n)으로 생성한다\n",
        "\n",
        "    0~1값들 중에서만 뽑아내는 것이 아니라 표준정규분포 중에서 랜덤으로 값을 뽑아내는 거임\n",
        "\n",
        "♟randint\n",
        "\n",
        "    시작, n-1 사이의 랜덤숫자 1개 뽑아내기\n",
        "    \n",
        "    ex) randint(6) ---> 0~5 사이 랜덤 숫자 1개\n",
        "\n",
        "    ex) randint(1,20) ----> 1~19 사이 랜덤 숫자 1개\n",
        "\n",
        "♟rand(m,n)\n",
        "\n",
        "    0~1의 균일분포 표준정규분포 난수를 matrix array(m,n) 생성. 말그대로 0~1 값 들 중에서 뽑아내는 거임.\n",
        "\n",
        "\n",
        "⚾Scalar, Vector, Matrix, Tensor 구별\n",
        "\n",
        "스칼라 : 차원이 없는 값\n",
        "\n",
        "벡터 : 1차원 값\n",
        "\n",
        "행렬 : 2차원 값(일반적인 데이터 형태)(batch size, dim)\n",
        "\n",
        "텐서 : 3차원 값 (batch size, length, dim)"
      ],
      "metadata": {
        "id": "ygWGl2r0kw22"
      }
    },
    {
      "cell_type": "markdown",
      "source": [
        "#데이터 불러오기\n",
        "\n",
        "1. 파이토치 제공 데이터 사용"
      ],
      "metadata": {
        "id": "82odDXUmGmXU"
      }
    },
    {
      "cell_type": "code",
      "source": [
        "import torch\n",
        "import torchvision\n",
        "import torchvision.transforms as tr\n",
        "from torch.utils.data import DataLoader, Dataset\n",
        "import numpy as np"
      ],
      "metadata": {
        "id": "WnV6fpuCji3R"
      },
      "execution_count": 3,
      "outputs": []
    },
    {
      "cell_type": "code",
      "source": [
        "transf = tr.Compose([tr.Resize(8),tr.ToTensor()])\n",
        "# transforms on PIL Image (PIL 이미지로 변환한다)\n",
        "# Pad, Grayscale, RandomCrop, Normalize 와 같은 기술들이 compose안에 순서형태로 들어감.\n",
        "# 예를 들어 위의 경우는 8  by 8 로 resize를 한뒤 tensor 형변환을 함\n",
        "# 기본적으로 transform에는 PIL image 가 들어가줘야함.\n",
        "# 아닌 경우 torchvision.transforms.ToPILImage(mode=None)을 해주어야 한다. \n",
        "\n",
        "\n",
        "#pytorch의 데이터셋이 지원하는 데이터들은 논문에도 많이 활용되는 고급 데이터셋들입니다.\n",
        "trainset = torchvision.datasets.CIFAR10(root='./data', train=True, download=True, transform=transf) #transform : 데이터 전처리\n",
        "testset = torchvision.datasets.CIFAR10(root='./data', train=False, download=True, transform=transf)"
      ],
      "metadata": {
        "colab": {
          "base_uri": "https://localhost:8080/",
          "height": 104,
          "referenced_widgets": [
            "b09b0ae9550b4082be345ea66864b55c",
            "6ed1e8ae052441e386c0d385ec289bb1",
            "1ae738fb7ee149ae8a7e5e6019834895",
            "5286607fde7d4d57907f2d23b717ae72",
            "27c01ef2dff94a3a826ee8fc54807153",
            "d624e69e60ed4c42a3952806fc294adc",
            "7e573d791e334cea8c7873630b8f99a9",
            "133121079c0e419faae7c6feb0b7138b",
            "0ece0fe8a221449f87fda8686abd14e1",
            "2a6c5c5a12cb4222b0794c8312ba9652",
            "c7154ad7236b46e5a3bb96a4ac1e71ec"
          ]
        },
        "id": "97tlsfuOK38o",
        "outputId": "1b9106ff-78d3-4a49-ded8-f999748607f3"
      },
      "execution_count": 4,
      "outputs": [
        {
          "output_type": "stream",
          "name": "stdout",
          "text": [
            "Downloading https://www.cs.toronto.edu/~kriz/cifar-10-python.tar.gz to ./data/cifar-10-python.tar.gz\n"
          ]
        },
        {
          "output_type": "display_data",
          "data": {
            "application/vnd.jupyter.widget-view+json": {
              "model_id": "b09b0ae9550b4082be345ea66864b55c",
              "version_minor": 0,
              "version_major": 2
            },
            "text/plain": [
              "  0%|          | 0/170498071 [00:00<?, ?it/s]"
            ]
          },
          "metadata": {}
        },
        {
          "output_type": "stream",
          "name": "stdout",
          "text": [
            "Extracting ./data/cifar-10-python.tar.gz to ./data\n",
            "Files already downloaded and verified\n"
          ]
        }
      ]
    },
    {
      "cell_type": "code",
      "source": [
        "trainset[0][0].size() #----> 훈련이미지의 각 데이터들의 크기. 즉 하나의 훈련 이미지 데이터의 크기를 말하는 겁니다\n",
        "#채널 3개에 8 by 8 이미지이다. \n",
        "#trainset[100000][0].size()를 해도 되는 것으로 보아 데이터의 개수가 100000을 넘는 것 같다.\n",
        "# MNIST 때와 마찬가지로 훈련이미지와 정답레이블이 들어가있다고 한다."
      ],
      "metadata": {
        "colab": {
          "base_uri": "https://localhost:8080/"
        },
        "id": "EcX3VtO0LZ7o",
        "outputId": "c7d5d01d-5c35-46a9-b2dd-4536d1aafe9e"
      },
      "execution_count": 5,
      "outputs": [
        {
          "output_type": "execute_result",
          "data": {
            "text/plain": [
              "torch.Size([3, 8, 8])"
            ]
          },
          "metadata": {},
          "execution_count": 5
        }
      ]
    },
    {
      "cell_type": "code",
      "source": [
        "trainset[0][1] #----> 0번째 입력 데이터의 정답 레이블\n",
        "#trainset[0][2] # ---> 는 없다"
      ],
      "metadata": {
        "colab": {
          "base_uri": "https://localhost:8080/"
        },
        "id": "YC1nS18JUvvk",
        "outputId": "d97e6457-29ae-4a2b-f6a7-5dbca7116813"
      },
      "execution_count": 6,
      "outputs": [
        {
          "output_type": "execute_result",
          "data": {
            "text/plain": [
              "6"
            ]
          },
          "metadata": {},
          "execution_count": 6
        }
      ]
    },
    {
      "cell_type": "markdown",
      "source": [
        "#trainset의 size에 대하여\n",
        "\n",
        "trainset은 \"훈련이미지\"와 \"정답레이블\"로 이루어져 있다.\n",
        "\n",
        "trainset[0][0],  [1][0] , [2][0]......... 식으로, 각 행에 훈련이미지의 데이터가 하나하나 저장되고\n",
        "\n",
        "trainset[0][1].  [1][1].  [2][1]..........식으로, 각 행의 다음 칸에 정답 레이블이 하나하나 저장된다\n",
        "\n",
        "\n",
        "[[trainset]] \n",
        "\n",
        "[훈련이미지 데이터]    [정답레이블]\n",
        "\n",
        "[훈련이미지 데이터]    [정답레이블]\n",
        "\n",
        "...                       .... \n",
        "\n",
        "의 형식입니다"
      ],
      "metadata": {
        "id": "oI12eDQyWMkz"
      }
    },
    {
      "cell_type": "code",
      "source": [
        "# 배치!!!\n",
        "trainloader = DataLoader(trainset,batch_size=50,shuffle=True,num_workers=2) # batch size의 크기를 정해주고, shuffle 할지 안할지 선택해주고\n",
        "# num_workers : dataloading 을 위해 몇개의 서브 프로세스를 사용할 것인가\n",
        "# 많으면 좋다고 얘기할 수 있을 것지만 서브 프로세스를 너무 많이 써버리면 CPU의 다른 작업에 제약이 생길 수 있음.\n",
        "testloader = DataLoader(testset, batch_size=50, shuffle=True, num_workers=2)\n",
        "#이렇게 정한 trainloader, testloader를 인공신경망에 넣기만 하면 끝!!"
      ],
      "metadata": {
        "id": "QrlrJqT8QY_U"
      },
      "execution_count": 7,
      "outputs": []
    },
    {
      "cell_type": "code",
      "source": [
        "len(trainloader)\n",
        "#1000이 의미하는 것 -> 전체 CIFAR10의 train 데이터는 50000개였다. batch_size를 50으로 했기 때문에 1000개의 \"배치\"가 있다는 뜻이다."
      ],
      "metadata": {
        "id": "9hCUD_EmRe1-",
        "colab": {
          "base_uri": "https://localhost:8080/"
        },
        "outputId": "01f06df2-a51b-4229-8a99-5068186811ce"
      },
      "execution_count": 8,
      "outputs": [
        {
          "output_type": "execute_result",
          "data": {
            "text/plain": [
              "1000"
            ]
          },
          "metadata": {},
          "execution_count": 8
        }
      ]
    },
    {
      "cell_type": "code",
      "source": [
        "#dataiter의 내용을 확인하고 싶을 때\n",
        "dataiter = iter(trainloader)\n",
        "images, labels = dataiter.next() # 이렇게 하나하나 읽어오는 느낌\n",
        "images.size() # 당연하게도 배치 50으로 묶어놨으니 (50,3,8,8)이 나온다. 데이터 개수(배치 사이즈), 채널 개수, 이미지(입력 데이터) 너비 , 높이 \n",
        "#[밑바닥 1]의 내용과 다를게 없다. "
      ],
      "metadata": {
        "colab": {
          "base_uri": "https://localhost:8080/"
        },
        "id": "31h5ZS7HJk6B",
        "outputId": "6060a831-6b7f-4bdd-c8fa-8d0c74d79fea"
      },
      "execution_count": 9,
      "outputs": [
        {
          "output_type": "execute_result",
          "data": {
            "text/plain": [
              "torch.Size([50, 3, 8, 8])"
            ]
          },
          "metadata": {},
          "execution_count": 9
        }
      ]
    },
    {
      "cell_type": "markdown",
      "source": [
        "# 입력 데이터의 채널 수와 필터의 채널 수는 같아야 한다. \n",
        "\n",
        "Pytorch의 [50,3,8,8] 의 의미를 명확히 해야 한다.\n",
        "\n",
        "순서대로 **[배치 size, 채널 수, 이미지 size(y축), 이미지 size(x축) ]**"
      ],
      "metadata": {
        "id": "TxWxf-f8OPtt"
      }
    },
    {
      "cell_type": "code",
      "source": [
        ""
      ],
      "metadata": {
        "id": "ad5-fAHrMZm0"
      },
      "execution_count": null,
      "outputs": []
    }
  ]
}