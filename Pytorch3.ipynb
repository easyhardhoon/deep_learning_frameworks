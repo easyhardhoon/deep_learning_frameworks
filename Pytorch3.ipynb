{
  "nbformat": 4,
  "nbformat_minor": 0,
  "metadata": {
    "colab": {
      "name": "Pytorch3.ipynb",
      "provenance": [],
      "collapsed_sections": [],
      "authorship_tag": "ABX9TyNFd67+yqll1rJQQWHPjqgo",
      "include_colab_link": true
    },
    "kernelspec": {
      "name": "python3",
      "display_name": "Python 3"
    },
    "language_info": {
      "name": "python"
    },
    "widgets": {
      "application/vnd.jupyter.widget-state+json": {
        "fd455c0e4866403ab519fa05ea4cd3ed": {
          "model_module": "@jupyter-widgets/controls",
          "model_name": "HBoxModel",
          "model_module_version": "1.5.0",
          "state": {
            "_view_name": "HBoxView",
            "_dom_classes": [],
            "_model_name": "HBoxModel",
            "_view_module": "@jupyter-widgets/controls",
            "_model_module_version": "1.5.0",
            "_view_count": null,
            "_view_module_version": "1.5.0",
            "box_style": "",
            "layout": "IPY_MODEL_cc4d8b727e1c44708113357a0615781f",
            "_model_module": "@jupyter-widgets/controls",
            "children": [
              "IPY_MODEL_cbf5927a648243a4877d15c0529997a2",
              "IPY_MODEL_0fa7c5e86adb49a1a067a0f1eeaaa827",
              "IPY_MODEL_dcbfab106b6447598427fd9ce68f37bb"
            ]
          }
        },
        "cc4d8b727e1c44708113357a0615781f": {
          "model_module": "@jupyter-widgets/base",
          "model_name": "LayoutModel",
          "model_module_version": "1.2.0",
          "state": {
            "_view_name": "LayoutView",
            "grid_template_rows": null,
            "right": null,
            "justify_content": null,
            "_view_module": "@jupyter-widgets/base",
            "overflow": null,
            "_model_module_version": "1.2.0",
            "_view_count": null,
            "flex_flow": null,
            "width": null,
            "min_width": null,
            "border": null,
            "align_items": null,
            "bottom": null,
            "_model_module": "@jupyter-widgets/base",
            "top": null,
            "grid_column": null,
            "overflow_y": null,
            "overflow_x": null,
            "grid_auto_flow": null,
            "grid_area": null,
            "grid_template_columns": null,
            "flex": null,
            "_model_name": "LayoutModel",
            "justify_items": null,
            "grid_row": null,
            "max_height": null,
            "align_content": null,
            "visibility": null,
            "align_self": null,
            "height": null,
            "min_height": null,
            "padding": null,
            "grid_auto_rows": null,
            "grid_gap": null,
            "max_width": null,
            "order": null,
            "_view_module_version": "1.2.0",
            "grid_template_areas": null,
            "object_position": null,
            "object_fit": null,
            "grid_auto_columns": null,
            "margin": null,
            "display": null,
            "left": null
          }
        },
        "cbf5927a648243a4877d15c0529997a2": {
          "model_module": "@jupyter-widgets/controls",
          "model_name": "HTMLModel",
          "model_module_version": "1.5.0",
          "state": {
            "_view_name": "HTMLView",
            "style": "IPY_MODEL_96fa9b5ffa9a4b5588891f4c1069dfee",
            "_dom_classes": [],
            "description": "",
            "_model_name": "HTMLModel",
            "placeholder": "​",
            "_view_module": "@jupyter-widgets/controls",
            "_model_module_version": "1.5.0",
            "value": "",
            "_view_count": null,
            "_view_module_version": "1.5.0",
            "description_tooltip": null,
            "_model_module": "@jupyter-widgets/controls",
            "layout": "IPY_MODEL_109cb4a10f8d43ac9552800bf46d00c8"
          }
        },
        "0fa7c5e86adb49a1a067a0f1eeaaa827": {
          "model_module": "@jupyter-widgets/controls",
          "model_name": "FloatProgressModel",
          "model_module_version": "1.5.0",
          "state": {
            "_view_name": "ProgressView",
            "style": "IPY_MODEL_7a0f0e4029154b949db8a5cd792902c6",
            "_dom_classes": [],
            "description": "",
            "_model_name": "FloatProgressModel",
            "bar_style": "success",
            "max": 170498071,
            "_view_module": "@jupyter-widgets/controls",
            "_model_module_version": "1.5.0",
            "value": 170498071,
            "_view_count": null,
            "_view_module_version": "1.5.0",
            "orientation": "horizontal",
            "min": 0,
            "description_tooltip": null,
            "_model_module": "@jupyter-widgets/controls",
            "layout": "IPY_MODEL_f6773028e4144d548787d7890b428e74"
          }
        },
        "dcbfab106b6447598427fd9ce68f37bb": {
          "model_module": "@jupyter-widgets/controls",
          "model_name": "HTMLModel",
          "model_module_version": "1.5.0",
          "state": {
            "_view_name": "HTMLView",
            "style": "IPY_MODEL_2055a857252844a5bc4eb2567309b284",
            "_dom_classes": [],
            "description": "",
            "_model_name": "HTMLModel",
            "placeholder": "​",
            "_view_module": "@jupyter-widgets/controls",
            "_model_module_version": "1.5.0",
            "value": " 170499072/? [00:11&lt;00:00, 16457724.72it/s]",
            "_view_count": null,
            "_view_module_version": "1.5.0",
            "description_tooltip": null,
            "_model_module": "@jupyter-widgets/controls",
            "layout": "IPY_MODEL_e4e68f663e644668a2917b4e57e38ad6"
          }
        },
        "96fa9b5ffa9a4b5588891f4c1069dfee": {
          "model_module": "@jupyter-widgets/controls",
          "model_name": "DescriptionStyleModel",
          "model_module_version": "1.5.0",
          "state": {
            "_view_name": "StyleView",
            "_model_name": "DescriptionStyleModel",
            "description_width": "",
            "_view_module": "@jupyter-widgets/base",
            "_model_module_version": "1.5.0",
            "_view_count": null,
            "_view_module_version": "1.2.0",
            "_model_module": "@jupyter-widgets/controls"
          }
        },
        "109cb4a10f8d43ac9552800bf46d00c8": {
          "model_module": "@jupyter-widgets/base",
          "model_name": "LayoutModel",
          "model_module_version": "1.2.0",
          "state": {
            "_view_name": "LayoutView",
            "grid_template_rows": null,
            "right": null,
            "justify_content": null,
            "_view_module": "@jupyter-widgets/base",
            "overflow": null,
            "_model_module_version": "1.2.0",
            "_view_count": null,
            "flex_flow": null,
            "width": null,
            "min_width": null,
            "border": null,
            "align_items": null,
            "bottom": null,
            "_model_module": "@jupyter-widgets/base",
            "top": null,
            "grid_column": null,
            "overflow_y": null,
            "overflow_x": null,
            "grid_auto_flow": null,
            "grid_area": null,
            "grid_template_columns": null,
            "flex": null,
            "_model_name": "LayoutModel",
            "justify_items": null,
            "grid_row": null,
            "max_height": null,
            "align_content": null,
            "visibility": null,
            "align_self": null,
            "height": null,
            "min_height": null,
            "padding": null,
            "grid_auto_rows": null,
            "grid_gap": null,
            "max_width": null,
            "order": null,
            "_view_module_version": "1.2.0",
            "grid_template_areas": null,
            "object_position": null,
            "object_fit": null,
            "grid_auto_columns": null,
            "margin": null,
            "display": null,
            "left": null
          }
        },
        "7a0f0e4029154b949db8a5cd792902c6": {
          "model_module": "@jupyter-widgets/controls",
          "model_name": "ProgressStyleModel",
          "model_module_version": "1.5.0",
          "state": {
            "_view_name": "StyleView",
            "_model_name": "ProgressStyleModel",
            "description_width": "",
            "_view_module": "@jupyter-widgets/base",
            "_model_module_version": "1.5.0",
            "_view_count": null,
            "_view_module_version": "1.2.0",
            "bar_color": null,
            "_model_module": "@jupyter-widgets/controls"
          }
        },
        "f6773028e4144d548787d7890b428e74": {
          "model_module": "@jupyter-widgets/base",
          "model_name": "LayoutModel",
          "model_module_version": "1.2.0",
          "state": {
            "_view_name": "LayoutView",
            "grid_template_rows": null,
            "right": null,
            "justify_content": null,
            "_view_module": "@jupyter-widgets/base",
            "overflow": null,
            "_model_module_version": "1.2.0",
            "_view_count": null,
            "flex_flow": null,
            "width": null,
            "min_width": null,
            "border": null,
            "align_items": null,
            "bottom": null,
            "_model_module": "@jupyter-widgets/base",
            "top": null,
            "grid_column": null,
            "overflow_y": null,
            "overflow_x": null,
            "grid_auto_flow": null,
            "grid_area": null,
            "grid_template_columns": null,
            "flex": null,
            "_model_name": "LayoutModel",
            "justify_items": null,
            "grid_row": null,
            "max_height": null,
            "align_content": null,
            "visibility": null,
            "align_self": null,
            "height": null,
            "min_height": null,
            "padding": null,
            "grid_auto_rows": null,
            "grid_gap": null,
            "max_width": null,
            "order": null,
            "_view_module_version": "1.2.0",
            "grid_template_areas": null,
            "object_position": null,
            "object_fit": null,
            "grid_auto_columns": null,
            "margin": null,
            "display": null,
            "left": null
          }
        },
        "2055a857252844a5bc4eb2567309b284": {
          "model_module": "@jupyter-widgets/controls",
          "model_name": "DescriptionStyleModel",
          "model_module_version": "1.5.0",
          "state": {
            "_view_name": "StyleView",
            "_model_name": "DescriptionStyleModel",
            "description_width": "",
            "_view_module": "@jupyter-widgets/base",
            "_model_module_version": "1.5.0",
            "_view_count": null,
            "_view_module_version": "1.2.0",
            "_model_module": "@jupyter-widgets/controls"
          }
        },
        "e4e68f663e644668a2917b4e57e38ad6": {
          "model_module": "@jupyter-widgets/base",
          "model_name": "LayoutModel",
          "model_module_version": "1.2.0",
          "state": {
            "_view_name": "LayoutView",
            "grid_template_rows": null,
            "right": null,
            "justify_content": null,
            "_view_module": "@jupyter-widgets/base",
            "overflow": null,
            "_model_module_version": "1.2.0",
            "_view_count": null,
            "flex_flow": null,
            "width": null,
            "min_width": null,
            "border": null,
            "align_items": null,
            "bottom": null,
            "_model_module": "@jupyter-widgets/base",
            "top": null,
            "grid_column": null,
            "overflow_y": null,
            "overflow_x": null,
            "grid_auto_flow": null,
            "grid_area": null,
            "grid_template_columns": null,
            "flex": null,
            "_model_name": "LayoutModel",
            "justify_items": null,
            "grid_row": null,
            "max_height": null,
            "align_content": null,
            "visibility": null,
            "align_self": null,
            "height": null,
            "min_height": null,
            "padding": null,
            "grid_auto_rows": null,
            "grid_gap": null,
            "max_width": null,
            "order": null,
            "_view_module_version": "1.2.0",
            "grid_template_areas": null,
            "object_position": null,
            "object_fit": null,
            "grid_auto_columns": null,
            "margin": null,
            "display": null,
            "left": null
          }
        }
      }
    }
  },
  "cells": [
    {
      "cell_type": "markdown",
      "metadata": {
        "id": "view-in-github",
        "colab_type": "text"
      },
      "source": [
        "<a href=\"https://colab.research.google.com/github/easyhardhoon/deep_learning_frameworks/blob/main/Pytorch3.ipynb\" target=\"_parent\"><img src=\"https://colab.research.google.com/assets/colab-badge.svg\" alt=\"Open In Colab\"/></a>"
      ]
    },
    {
      "cell_type": "markdown",
      "source": [
        "#데이터 불러오기\n",
        "\n",
        "2. 같은 클래스 별 폴더 이미지 데이터 이용\n",
        "\n"
      ],
      "metadata": {
        "id": "3Y_Mtf4rPMXI"
      }
    },
    {
      "cell_type": "code",
      "execution_count": null,
      "metadata": {
        "id": "Uomb1EnJPEB9"
      },
      "outputs": [],
      "source": [
        "import torch\n",
        "import torchvision\n",
        "import torchvision.transforms as tr\n",
        "from torch.utils.data import DataLoader, Dataset\n",
        "import numpy as np\n",
        "# ./class/tiger  ./class/lion \n",
        "# 만약 이런 폴더가 있다면. class 하위폴더에 tiger, lion 데이터 폴더가 있다면\n",
        "transf = tr.Compose([tr.Resize(16), tr.ToTensor()])\n",
        "trainset = torchvision.datasets.ImageFolder(root='./class', transform=transf)\n",
        "#이렇게 한번에 모두를 처리할 수 있다는 개념이다. \n",
        "#class 하위의 이미지 데이터들을 tiger, lion 각각의 레이블에 맞춰 search 해준다. \n",
        "# tranf 으로 전처리까지 가능. 즉 모든 데이터를 불러오면서 각각의 레이블링까지 자동으로 매겨준다고 이해하자. \n",
        "trainloader = DataLoader(trainset, batch_size = 1, shuffle = False, num_workers=2)\n",
        "print(len(trainLoader))"
      ]
    },
    {
      "cell_type": "markdown",
      "source": [
        "3. 개인 데이터 사용 (2 types) (직접 데이터 불러오기)"
      ],
      "metadata": {
        "id": "ex1yzJD4UQxd"
      }
    },
    {
      "cell_type": "code",
      "source": [
        "train_images = np.random.randint(256,size=(20,32,32,3))\n",
        "train_labels = np.random.randint(2,size=(20,1))\n",
        "#import preprocessing\n",
        "#train_images, train_labels = preprocessing(train_images, train_labels)\n",
        "#일종의 전처리 작업입니다. 앞의 transf 의 느낌과 비슷합니다.\n",
        "print(train_images.shape, train_labels.shape)\n",
        "#numpy에서는 (20,32,32,3) 이면 20의 batch size, 3개의 채널, 32 by 32 인풋 이미지 크기라고 생각하면 됩니다."
      ],
      "metadata": {
        "colab": {
          "base_uri": "https://localhost:8080/"
        },
        "id": "Xn_mzYIDSs36",
        "outputId": "9ba0000c-570c-474c-ceb6-b0a4f9652cbf"
      },
      "execution_count": 16,
      "outputs": [
        {
          "output_type": "stream",
          "name": "stdout",
          "text": [
            "(20, 32, 32, 3) (20, 1)\n"
          ]
        }
      ]
    },
    {
      "cell_type": "code",
      "source": [
        "class TensorData(Dataset): #이 문법은 Dataset 클래스를 상속받는 TensorData 클래스를 정의하는 것입니다.\n",
        "  def __init__(self,x_data,y_data):\n",
        "    self.x_data = torch.FloatTensor(x_data)\n",
        "    self.x_data = self.x_data.permute(0,3,1,2) #np.transpose 함수와 유사.  축 바꿔주기. \n",
        "    #pytorch에선 앞서 말했듯 (batch_size, channel, input_y,input_x) 이기 때문에 축을 바꿔주었다.\n",
        "    self.y_data = torch.LongTensor(y_data) #그냥 Tensor도 있지만 이렇게 형식을 명확히 해주는 Tensor도 있습니다.\n",
        "    self.len = self.y_data.shape[0] #x_data든 y_data든 데이터의 개수를 의미합니다. \n",
        "  def __getitem__(self,index):\n",
        "      return self.x_data[index], self.y_data[index] #튜플형태의 데이터로 리턴\n",
        "  def __len__(self):\n",
        "    return self.len"
      ],
      "metadata": {
        "id": "XeLC53_TXLsh"
      },
      "execution_count": 17,
      "outputs": []
    },
    {
      "cell_type": "markdown",
      "source": [
        "#위의 클래스는\n",
        "\n",
        "우리가 수동적으로 데이터를 가져올때 쓰는 클래스입니다.\n",
        "\n",
        "정형화되어 있으니 형식을 외우면 좋을 것 같다."
      ],
      "metadata": {
        "id": "ZrRW46Gmam6R"
      }
    },
    {
      "cell_type": "code",
      "source": [
        "train_data = TensorData(train_images, train_labels) #data를 정제한다! 수동으로. \n",
        "train_loader = DataLoader(train_data, batch_size=10, shuffle=True) #마지막으로 인공신경망에 넣기 위해 batch를 조정한다!\n",
        "train_data[0][0].size()"
      ],
      "metadata": {
        "id": "T9kmlHI5YNP4",
        "colab": {
          "base_uri": "https://localhost:8080/"
        },
        "outputId": "573f5f3f-591e-4cfc-e2bc-711ad94d41d5"
      },
      "execution_count": 18,
      "outputs": [
        {
          "output_type": "execute_result",
          "data": {
            "text/plain": [
              "torch.Size([3, 32, 32])"
            ]
          },
          "metadata": {},
          "execution_count": 18
        }
      ]
    },
    {
      "cell_type": "code",
      "source": [
        "dataiter = iter(train_loader)\n",
        "images,labels = dataiter.next()\n",
        "images.size()"
      ],
      "metadata": {
        "colab": {
          "base_uri": "https://localhost:8080/"
        },
        "id": "JCw2jcM23tWd",
        "outputId": "e1ee5993-42f5-4c29-aa26-4983191fc723"
      },
      "execution_count": 19,
      "outputs": [
        {
          "output_type": "execute_result",
          "data": {
            "text/plain": [
              "torch.Size([10, 3, 32, 32])"
            ]
          },
          "metadata": {},
          "execution_count": 19
        }
      ]
    },
    {
      "cell_type": "code",
      "source": [
        "#전과정(파이토치 제공 데이터 사용할떄)\n",
        "transf = tr.Compose([tr.Resize(8),tr.ToTensor()])\n",
        "trainset = torchvision.datasets.CIFAR10(root='./data', train=True, download=True, transform=transf) #transform : 데이터 전처리\n",
        "trainloader = DataLoader(trainset,batch_size=50,shuffle=True,num_workers=2) "
      ],
      "metadata": {
        "id": "vWIl9QJs0tqY",
        "colab": {
          "base_uri": "https://localhost:8080/",
          "height": 86,
          "referenced_widgets": [
            "fd455c0e4866403ab519fa05ea4cd3ed",
            "cc4d8b727e1c44708113357a0615781f",
            "cbf5927a648243a4877d15c0529997a2",
            "0fa7c5e86adb49a1a067a0f1eeaaa827",
            "dcbfab106b6447598427fd9ce68f37bb",
            "96fa9b5ffa9a4b5588891f4c1069dfee",
            "109cb4a10f8d43ac9552800bf46d00c8",
            "7a0f0e4029154b949db8a5cd792902c6",
            "f6773028e4144d548787d7890b428e74",
            "2055a857252844a5bc4eb2567309b284",
            "e4e68f663e644668a2917b4e57e38ad6"
          ]
        },
        "outputId": "58cf22ec-f74e-4284-b869-c3ee20671dd6"
      },
      "execution_count": 20,
      "outputs": [
        {
          "output_type": "stream",
          "name": "stdout",
          "text": [
            "Downloading https://www.cs.toronto.edu/~kriz/cifar-10-python.tar.gz to ./data/cifar-10-python.tar.gz\n"
          ]
        },
        {
          "output_type": "display_data",
          "data": {
            "application/vnd.jupyter.widget-view+json": {
              "model_id": "fd455c0e4866403ab519fa05ea4cd3ed",
              "version_minor": 0,
              "version_major": 2
            },
            "text/plain": [
              "  0%|          | 0/170498071 [00:00<?, ?it/s]"
            ]
          },
          "metadata": {}
        },
        {
          "output_type": "stream",
          "name": "stdout",
          "text": [
            "Extracting ./data/cifar-10-python.tar.gz to ./data\n"
          ]
        }
      ]
    },
    {
      "cell_type": "markdown",
      "source": [
        "#정리\n",
        "\n",
        "데이터를 불러오는 유형은 여러가지가 있다\n",
        "\n",
        "파이토치 기본 제공 형태, 내장 폴더 형태, 개인 데이터 형태 이다.\n",
        "\n",
        "어떤 유형에도 상관없이\n",
        "\n",
        "**데이터 전처리 + 배치사이즈조정(최종관문)의 형태는 동일하다**\n",
        "\n",
        "✅내장 폴더 형태의 데이터 불러오기를 잘 안하는 이유\n",
        "\n",
        "    단 3줄이면 불러오기, 전처리, 배치사이즈 조정이 다 가능하지만 \n",
        "\n",
        "    다른 작업과 공용으로 사용하거나 폴더가 아닌 SQL같은 곳에서 넘어오는 경우 등의\n",
        "\n",
        "    폴더 정리를 못하는 경우에 이 작업을 수행하기 힘들다\n",
        "\n",
        "    또한 파이토치에서 제공하는 transform의 종류가 제한적이다. \n",
        "\n",
        "    그래서 3번의 경우처럼 preprocessing 라이브러리를 import해서 1차 전처리를 해주고\n",
        "\n",
        "    직접 tensor형변환 용 클래스를 만들어 2차 전처리를 해주고 데이터를 사용하는 편이 좋다"
      ],
      "metadata": {
        "id": "i0f1eVXV2Ehb"
      }
    },
    {
      "cell_type": "markdown",
      "source": [
        "# TIP : 개인 데이터의 전처리를 transform 을 이용해서 할 수 있다.\n"
      ],
      "metadata": {
        "id": "bZJsLPYf60cS"
      }
    },
    {
      "cell_type": "code",
      "source": [
        "from torch.utils.data import Dataset\n",
        "\n",
        "class MyDataset(Dataset):\n",
        "  def __init__(self):\n",
        "    pass\n",
        "  def __getitem__(self,index):\n",
        "    pass\n",
        "  def __len__(self):\n",
        "    pass\n",
        "  #이 양식이 기본 양식임을 기억/."
      ],
      "metadata": {
        "id": "1hANJHzX2j61"
      },
      "execution_count": 21,
      "outputs": []
    },
    {
      "cell_type": "code",
      "source": [
        "class MyDataset(Dataset): \n",
        "  def __init__(self,x_data,y_data,transform=None):\n",
        "    self.x_data = x_data\n",
        "    self.y_data = y_data \n",
        "    self.transform = transform\n",
        "    self.len = len(y_data)\n",
        "  def __getitem__(self,index):\n",
        "      sample = self.x_data[index], self.y_data[index]\n",
        "      if self.transform:\n",
        "        sample= self.transform(sample) #여기서 transform이 형변환을 도와주게끔 설정. 실제로 하면 tensor로 자동변환\n",
        "      return sample #그냥 리턴하면 numpy로 리턴\n",
        "  def __len__(self):\n",
        "    return self.len"
      ],
      "metadata": {
        "id": "7TBimXDv7kle"
      },
      "execution_count": 22,
      "outputs": []
    },
    {
      "cell_type": "markdown",
      "source": [
        "#위 코드에서\n",
        "\n",
        "앞의 TensorData 클래스와 비교해보면, \n",
        "\n",
        "transform을 인자로 받아서 transform이 켜지면 transform을 실행한후 리턴하는 모습을 알 수 있다.\n",
        "\n",
        "TensorData(100프로 수동)에서는 tensor  변환을 클래스 내부에서 직접 구현했지만\n",
        "\n",
        "MyDataSet(transform 이용)에서는 transform이 켜지면 transfrom이 알아서 실행하도록 도움을 받았다.\n",
        "\n",
        "(transform이 tensor 형변환을 자동으로 해주었다)"
      ],
      "metadata": {
        "id": "onVNmmeZ87cz"
      }
    },
    {
      "cell_type": "code",
      "source": [
        "#transform의 ToTensor,LInearTensor함수 직접 구현 (참고용입니다)\n",
        "class ToTensor:\n",
        "  def __call__(self,sample):\n",
        "    inputs, labels = sample\n",
        "    inputs = torch.FloatTensor(inputs)\n",
        "    inputs = inputs.permute(2,0,1)\n",
        "    return inputs, torch.LongTensor(labels)\n",
        "class LinearTensor:\n",
        "  def __init__(self,slope=1,bias=0):\n",
        "    self.slope = slope\n",
        "    self.bias = bias\n",
        "  def __call__(self,sample):\n",
        "    inputs,labels=sample\n",
        "    inputs= self.slope*inputs+self.bias\n",
        "    return inputs,labels"
      ],
      "metadata": {
        "id": "RMQyfbug8b5u"
      },
      "execution_count": 23,
      "outputs": []
    },
    {
      "cell_type": "code",
      "source": [
        "trans = tr.Compose([ToTensor(), LinearTensor(2,5)]) #참고로 여기는 tr.ToTensor 가 아닌 그냥 ToTensor입니다. 그냥 앞에서 만든걸 쓰겠다는 겁니다\n",
        "ds1 = MyDataset(train_images,train_labels,transform=trans) #transform의 도움을 받을 것이니 trans을 앞에다가 선언해주는 모습\n",
        "train_loader1 = DataLoader(ds1, batch_size=10,shuffle=True) #마지막 배치화는 모든 방법에서 동일하다"
      ],
      "metadata": {
        "id": "cfoJlh2XWjS4"
      },
      "execution_count": 25,
      "outputs": []
    },
    {
      "cell_type": "code",
      "source": [
        "first_data  = ds1[0] #ds1의 첫번째 줄 입력이미지, 첫번쨰 줄 정답레이블을 묶어 의미합니다.\n",
        "features, labels = first_data #기본적으로 numpy이든 tensor이든 tuple 형태기 때문에 이런 문법이 가능합니다.\n",
        "print(type(features))\n",
        "print(features.size()) #바로아래 코드와 동일한 뜻입니다.\n",
        "ds1[0][0].size() #ds1의 첫번째 줄 입력이미지의 크기를 의미합니다. 배치를 하기 전이라 3,32,32가 나옵니다.\n",
        "#참고로 totensor 구문에서 tensor로 바꾸고 차원도 바꿨기 때문에 numpy기준 차원이 pytorch에 맞게 올바르게 바뀌었씁니다."
      ],
      "metadata": {
        "colab": {
          "base_uri": "https://localhost:8080/"
        },
        "id": "qehhxbXHb1GE",
        "outputId": "258e4be6-ad14-4c27-f65e-01d37c7422e4"
      },
      "execution_count": 36,
      "outputs": [
        {
          "output_type": "stream",
          "name": "stdout",
          "text": [
            "<class 'torch.Tensor'>\n",
            "torch.Size([3, 32, 32])\n"
          ]
        },
        {
          "output_type": "execute_result",
          "data": {
            "text/plain": [
              "torch.Size([3, 32, 32])"
            ]
          },
          "metadata": {},
          "execution_count": 36
        }
      ]
    },
    {
      "cell_type": "markdown",
      "source": [
        "**Tensor는 기본적으로 3차원 배열입니다**"
      ],
      "metadata": {
        "id": "ygQyWOjQjv7v"
      }
    },
    {
      "cell_type": "code",
      "source": [
        "dataiter = iter(train_loader1)\n",
        "images,labels = dataiter.next()\n",
        "images.size()"
      ],
      "metadata": {
        "colab": {
          "base_uri": "https://localhost:8080/"
        },
        "id": "rN-IsYKXe33B",
        "outputId": "a57e8eac-c973-4be2-9331-3a2920583956"
      },
      "execution_count": 35,
      "outputs": [
        {
          "output_type": "execute_result",
          "data": {
            "text/plain": [
              "torch.Size([10, 3, 32, 32])"
            ]
          },
          "metadata": {},
          "execution_count": 35
        }
      ]
    },
    {
      "cell_type": "markdown",
      "source": [
        "#다시 정리\n",
        "\n",
        "✈직접 데이터를 불러오고 전처리할때(tr 도움없이)\n",
        "\n",
        "data = __(train_images, train_labels) \n",
        "\n",
        "✈파이토치 기본 제공 데이터를 불러오고 정제할때\n",
        "\n",
        "trans = tr.Compose([tr.Resize(8),tr.ToTensor()])\n",
        "\n",
        "data = torchvision.datasets.CIFAR10(root='./data', train=True, download=True, transform=trans) \n",
        "\n",
        "\n",
        "✈직접 데이터를 불러오고 전처리할때(tr 도움받고)\n",
        "\n",
        "trans = tr.Compose([ToTensor(), LinearTensor(2,5)])\n",
        "\n",
        "data = __(train_images,train_labels,transform=trans) \n",
        "\n",
        "__는 사용자가 직접 설정한 데이터 처리 클래스입니다\n",
        "\n",
        "\n",
        "⏰마지막 배치설정에는 모두가 똑같이\n",
        "\n",
        "train_loader = DataLoader(data, batch_size = ??, shuffle = True)\n",
        "\n",
        "\n"
      ],
      "metadata": {
        "id": "PEPkY3TXZMxa"
      }
    },
    {
      "cell_type": "markdown",
      "source": [
        "#아무튼\n",
        "\n",
        "이렇게 수동으로 ToTensor, LinearTensor.... 등의 전처리함수를 만들어서 tr.Compose([......]) 안에 넣어줄 수 있다. \n",
        "\n",
        "근데.... 굳이?? tr.ToTensor 쓰면 되는거 아닌가..??\n",
        "\n",
        "처음으로 돌아가서\n",
        "\n",
        "transf = tr.Compose([tr.Resize(8)]) 이게 실행이 되려면\n",
        "\n",
        "여기에 들어오는 데이터가 PIL Image이어야 한다.\n",
        "\n",
        "즉 PIL Image이어야 tr.ToTensor나 tr.Resize를 할 수 있다.\n",
        "\n",
        "근데 여기서는 numpy이 이기 때문에 타입이 달라 실행이 되지 않는다\n",
        "\n",
        "그래서 수동으로 ToTensor, LinearTensor를 만들어 준 것이다.\n",
        "\n",
        "#그래도\n",
        "\n",
        "일일이 수동으로 전처리함수를 만들기 귀찮다면???\n"
      ],
      "metadata": {
        "id": "oA_oXJsiifEh"
      }
    },
    {
      "cell_type": "code",
      "source": [
        "class MyDataset(Dataset): \n",
        "  def __init__(self,x_data,y_data,transform=None):\n",
        "    self.x_data = x_data\n",
        "    self.y_data = y_data \n",
        "    self.transform = transform\n",
        "    self.len = len(y_data)\n",
        "  def __getitem__(self,index):\n",
        "      sample = self.x_data[index], self.y_data[index]\n",
        "      if self.transform:\n",
        "        sample= self.transform(sample) #여기서 transform이 형변환을 도와주게끔 설정. 실제로 하면 tensor로 자동변환\n",
        "      return sample #그냥 리턴하면 numpy로 리턴\n",
        "  def __len__(self):\n",
        "    return self.len\n",
        "\n",
        "#여기서부터 주목\n",
        "class MyTransform:\n",
        "  def __call__(self,sample):\n",
        "    inputs, labels = sample\n",
        "    inputs = torch.FloatTensor(inputs)\n",
        "    inputs = inputs.permute(2,0,1)\n",
        "    labels = torch.FloatTensor(labels)\n",
        "    #ToPILImage 함수를 통해 타입이 tensor에서 PIL 이미지로 바뀝니다.\n",
        "    #tensor 에서 pil 이미지로 바꾸는 겁니다. numpy에서 바로 pil 이미지로 바꾸는 것은 아니다\n",
        "    transf = tr.Compose([tr.ToPILImage(), tr.Resize(128), tr.ToTensor()]) \n",
        "    #다행히 topillimage 함수가 있다. 순서대로 수행되기 때문에 pil 이미지로 바뀌고 나서는 다음 resize수행 가능\n",
        "    final_output = transf(inputs) #그냥 문법. 외우자. 이해하지말고\n",
        "    return final_output, labels"
      ],
      "metadata": {
        "id": "bf8wCVVkXV0S"
      },
      "execution_count": 46,
      "outputs": []
    },
    {
      "cell_type": "code",
      "source": [
        "#여기에 trans = tr.Compose([.....]) 가 없는 모습. 이유는 앞에서 설명함.  \n",
        "ds2 = MyDataset(train_images, train_labels, transform=MyTransform())\n",
        "train_loader2 = DataLoader(ds2, batch_size=10,shuffle=True)\n",
        "first_data = ds2[0]\n",
        "features,labels = first_data\n",
        "print(type(features), type(labels))"
      ],
      "metadata": {
        "colab": {
          "base_uri": "https://localhost:8080/"
        },
        "id": "By9tZKGYp72F",
        "outputId": "955663cd-12d2-481d-e20b-896209f858f9"
      },
      "execution_count": 47,
      "outputs": [
        {
          "output_type": "stream",
          "name": "stdout",
          "text": [
            "<class 'torch.Tensor'> <class 'torch.Tensor'>\n"
          ]
        }
      ]
    },
    {
      "cell_type": "code",
      "source": [
        "dataiter2 = iter(train_loader2)\n",
        "images2,labels2 = dataiter2.next()\n",
        "images2.size() #잘 바뀐 모습"
      ],
      "metadata": {
        "colab": {
          "base_uri": "https://localhost:8080/"
        },
        "id": "XOCQOsM1qZ5D",
        "outputId": "ff3d6f94-9da8-4683-85ac-439d52ffa2bb"
      },
      "execution_count": 49,
      "outputs": [
        {
          "output_type": "execute_result",
          "data": {
            "text/plain": [
              "torch.Size([10, 3, 128, 128])"
            ]
          },
          "metadata": {},
          "execution_count": 49
        }
      ]
    },
    {
      "cell_type": "code",
      "source": [
        ""
      ],
      "metadata": {
        "id": "mPgNXPi6wk72"
      },
      "execution_count": null,
      "outputs": []
    }
  ]
}